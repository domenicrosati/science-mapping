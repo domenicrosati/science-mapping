{
 "cells": [
  {
   "cell_type": "markdown",
   "id": "750a6970",
   "metadata": {},
   "source": [
    "# Demonstration of using the leidenalg"
   ]
  },
  {
   "cell_type": "code",
   "execution_count": 1,
   "id": "e6707447",
   "metadata": {},
   "outputs": [
    {
     "name": "stdout",
     "output_type": "stream",
     "text": [
      "Requirement already satisfied: leidenalg in /Users/domenicrosati/.asdf/installs/python/3.10.4/lib/python3.10/site-packages (0.9.0)\n",
      "Requirement already satisfied: pycairo in /Users/domenicrosati/.asdf/installs/python/3.10.4/lib/python3.10/site-packages (1.21.0)\n",
      "Requirement already satisfied: igraph<0.11,>=0.10.0 in /Users/domenicrosati/.asdf/installs/python/3.10.4/lib/python3.10/site-packages (from leidenalg) (0.10.1)\n",
      "Requirement already satisfied: texttable>=1.6.2 in /Users/domenicrosati/.asdf/installs/python/3.10.4/lib/python3.10/site-packages (from igraph<0.11,>=0.10.0->leidenalg) (1.6.4)\n",
      "\u001b[33mWARNING: You are using pip version 22.0.4; however, version 22.3.1 is available.\n",
      "You should consider upgrading via the '/Users/domenicrosati/.asdf/installs/python/3.10.4/bin/python3.10 -m pip install --upgrade pip' command.\u001b[0m\u001b[33m\n",
      "\u001b[0mNote: you may need to restart the kernel to use updated packages.\n"
     ]
    }
   ],
   "source": [
    "pip install leidenalg pycairo"
   ]
  },
  {
   "cell_type": "code",
   "execution_count": 2,
   "id": "d4d4d99c",
   "metadata": {},
   "outputs": [],
   "source": [
    "import igraph as ig\n",
    "import leidenalg as la\n",
    "import pandas as pd"
   ]
  },
  {
   "cell_type": "code",
   "execution_count": 3,
   "id": "58e1d256",
   "metadata": {},
   "outputs": [
    {
     "data": {
      "text/plain": [
       "1000000"
      ]
     },
     "execution_count": 3,
     "metadata": {},
     "output_type": "execute_result"
    }
   ],
   "source": [
    "# a random citations sample from scite.ai of traditional citations of 1,000,000 samples\n",
    "df = pd.read_csv('../data/citations_sample.csv')\n",
    "len(df)"
   ]
  },
  {
   "cell_type": "code",
   "execution_count": 4,
   "id": "4085ac69",
   "metadata": {},
   "outputs": [
    {
     "data": {
      "text/plain": [
       "Index(['source_doi', 'target_doi', 'source', 'created_at', 'last_updated'], dtype='object')"
      ]
     },
     "execution_count": 4,
     "metadata": {},
     "output_type": "execute_result"
    }
   ],
   "source": [
    "# columns required for the graph input\n",
    "df.columns"
   ]
  },
  {
   "cell_type": "code",
   "execution_count": 28,
   "id": "f33d063d",
   "metadata": {},
   "outputs": [
    {
     "name": "stdout",
     "output_type": "stream",
     "text": [
      "Size in memory of dataframe: 0.376603654GB\n",
      "Size in memory of 1bn dataframe: 376.603654GB\n"
     ]
    }
   ],
   "source": [
    "import sys\n",
    "print(f\"Size in memory of dataframe: {sys.getsizeof(df) / 1e+9}GB\")\n",
    "print(f\"Size in memory of 1bn dataframe: {(sys.getsizeof(df) * 1000) / 1e+9}GB\")"
   ]
  },
  {
   "cell_type": "code",
   "execution_count": 10,
   "id": "2c852e2d",
   "metadata": {},
   "outputs": [],
   "source": [
    "# Create a graph\n",
    "tuples = [tuple(x) for x in df.values]\n",
    "G = ig.Graph.TupleList(tuples)"
   ]
  },
  {
   "cell_type": "code",
   "execution_count": 27,
   "id": "84d4594c",
   "metadata": {},
   "outputs": [
    {
     "data": {
      "text/plain": [
       "398575"
      ]
     },
     "execution_count": 27,
     "metadata": {},
     "output_type": "execute_result"
    }
   ],
   "source": []
  },
  {
   "cell_type": "code",
   "execution_count": 30,
   "id": "c9050b82",
   "metadata": {},
   "outputs": [
    {
     "name": "stdout",
     "output_type": "stream",
     "text": [
      "Graph size in memory 0.0383772\n",
      "Graph size in memory 1bn scale 38.3772\n"
     ]
    }
   ],
   "source": [
    "def graph_size_gb(v_size, e_size):\n",
    "    # https://igraph-help.nongnu.narkive.com/s0BCO8we/igraph-memory-usage\n",
    "    return (v_size * 2 * 8 + e_size * 4 * 8) / 1e+9\n",
    "\n",
    "\n",
    "print(f\"Graph size in memory {graph_size_gb(len(G.vs), len(G.es))}\")\n",
    "print(f\"Graph size in memory 1bn scale {graph_size_gb(len(G.vs) * 1000, len(G.es) * 1000)}\")"
   ]
  },
  {
   "cell_type": "code",
   "execution_count": 37,
   "id": "f05f243c",
   "metadata": {},
   "outputs": [
    {
     "name": "stdout",
     "output_type": "stream",
     "text": [
      "igraph.Vertex(<igraph.Graph object at 0x127c64d40>, 0, {'name': '10.1093/plankt/fbn091'})\n",
      "igraph.Vertex(<igraph.Graph object at 0x127c64d40>, 1, {'name': '10.1016/s0967-0637(97)00083-6'})\n",
      "0 1\n"
     ]
    }
   ],
   "source": [
    "print(G.vs[0])\n",
    "print(G.vs[1])\n",
    "print(G.es[0].source, G.es[0].target)"
   ]
  },
  {
   "cell_type": "code",
   "execution_count": 20,
   "id": "77fdcb2b",
   "metadata": {},
   "outputs": [],
   "source": [
    "partition = la.find_partition(G, la.ModularityVertexPartition)"
   ]
  },
  {
   "cell_type": "code",
   "execution_count": null,
   "id": "f7d4c07d",
   "metadata": {},
   "outputs": [],
   "source": [
    "ig.plot(partition) "
   ]
  },
  {
   "cell_type": "code",
   "execution_count": 6,
   "id": "6ce47392",
   "metadata": {},
   "outputs": [
    {
     "name": "stdout",
     "output_type": "stream",
     "text": [
      "Clustering with 34 elements and 4 clusters\n",
      "[0] 8, 9, 14, 15, 18, 20, 22, 26, 29, 30, 32, 33\n",
      "[1] 0, 1, 2, 3, 7, 11, 12, 13, 17, 19, 21\n",
      "[2] 23, 24, 25, 27, 28, 31\n",
      "[3] 4, 5, 6, 10, 16\n"
     ]
    }
   ],
   "source": [
    "print(partition)"
   ]
  }
 ],
 "metadata": {
  "kernelspec": {
   "display_name": "Python 3.10.4 64-bit",
   "language": "python",
   "name": "python3"
  },
  "language_info": {
   "codemirror_mode": {
    "name": "ipython",
    "version": 3
   },
   "file_extension": ".py",
   "mimetype": "text/x-python",
   "name": "python",
   "nbconvert_exporter": "python",
   "pygments_lexer": "ipython3",
   "version": "3.10.4"
  },
  "vscode": {
   "interpreter": {
    "hash": "62ee7219658c63421b63ea0464ec2ea32e1cd0fda5a5111742a8584adc6d4197"
   }
  }
 },
 "nbformat": 4,
 "nbformat_minor": 5
}
